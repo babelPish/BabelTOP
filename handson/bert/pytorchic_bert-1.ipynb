{
  "nbformat": 4,
  "nbformat_minor": 0,
  "metadata": {
    "colab": {
      "name": "pytorchic-bert.ipynb",
      "version": "0.3.2",
      "provenance": []
    },
    "kernelspec": {
      "name": "python3",
      "display_name": "Python 3"
    },
    "accelerator": "GPU"
  },
  "cells": [
    {
      "cell_type": "code",
      "metadata": {
        "id": "ZwtPqAj4nnp8",
        "colab_type": "code",
        "colab": {}
      },
      "source": [
        "!git clone https://github.com/dhlee347/pytorchic-bert.git"
      ],
      "execution_count": 0,
      "outputs": []
    },
    {
      "cell_type": "code",
      "metadata": {
        "id": "5-dyCFozn-08",
        "colab_type": "code",
        "colab": {}
      },
      "source": [
        "!wget https://storage.googleapis.com/bert_models/2018_10_18/uncased_L-12_H-768_A-12.zip"
      ],
      "execution_count": 0,
      "outputs": []
    },
    {
      "cell_type": "code",
      "metadata": {
        "id": "59lj3ehVoP8J",
        "colab_type": "code",
        "colab": {}
      },
      "source": [
        "!unzip uncased_L-12_H-768_A-12.zip"
      ],
      "execution_count": 0,
      "outputs": []
    },
    {
      "cell_type": "code",
      "metadata": {
        "id": "j7rFzIJtrlcy",
        "colab_type": "code",
        "colab": {}
      },
      "source": [
        "!mkdir mrpc"
      ],
      "execution_count": 0,
      "outputs": []
    },
    {
      "cell_type": "code",
      "metadata": {
        "id": "5L77GPILr9Ho",
        "colab_type": "code",
        "colab": {}
      },
      "source": [
        "!wget -O mrpc/train.tsv https://docs.google.com/uc?id='1m5ft6FSPB5ORy6CMu7612PK3gBD81Hm0'"
      ],
      "execution_count": 0,
      "outputs": []
    },
    {
      "cell_type": "code",
      "metadata": {
        "id": "BZg6BJ7Ctmz-",
        "colab_type": "code",
        "colab": {}
      },
      "source": [
        "!wget -O mrpc/dev.tsv https://docs.google.com/uc?id='1oex3jntQ6LIfNi4LacKqBF15G71g2KeB'"
      ],
      "execution_count": 0,
      "outputs": []
    },
    {
      "cell_type": "code",
      "metadata": {
        "id": "0cl5ZZQAyl_u",
        "colab_type": "code",
        "colab": {}
      },
      "source": [
        "!pip install fire"
      ],
      "execution_count": 0,
      "outputs": []
    },
    {
      "cell_type": "code",
      "metadata": {
        "id": "GDhe_B32yoBy",
        "colab_type": "code",
        "colab": {}
      },
      "source": [
        "%run pytorchic-bert/classify.py --task mrpc --mode train --train_cfg pytorchic-bert/config/train_mrpc.json --model_cfg pytorchic-bert/config/bert_base.json --data_file mrpc/train.tsv --pretrain_file uncased_L-12_H-768_A-12/bert_model.ckpt --vocab uncased_L-12_H-768_A-12/vocab.txt --save_dir ."
      ],
      "execution_count": 0,
      "outputs": []
    },
    {
      "cell_type": "code",
      "metadata": {
        "id": "otOZbr780vBB",
        "colab_type": "code",
        "colab": {
          "base_uri": "https://localhost:8080/",
          "height": 89
        },
        "outputId": "45590422-8dcb-49f4-a2eb-98f9cbcf99e3"
      },
      "source": [
        "%run pytorchic-bert/classify.py --task mrpc --mode eval --train_cfg pytorchic-bert/config/train_mrpc.json --model_cfg pytorchic-bert/config/bert_base.json --data_file mrpc/dev.tsv --model-file model_steps_345.pt --pretrain_file uncased_L-12_H-768_A-12/bert_model.ckpt --vocab uncased_L-12_H-768_A-12/vocab.txt "
      ],
      "execution_count": 8,
      "outputs": [
        {
          "output_type": "stream",
          "text": [
            "cuda (1 GPUs)\n",
            "Loading the model from model_steps_345.pt\n"
          ],
          "name": "stdout"
        },
        {
          "output_type": "stream",
          "text": [
            "Iter(acc=0.875): 100%|██████████| 13/13 [00:03<00:00,  3.85it/s]"
          ],
          "name": "stderr"
        },
        {
          "output_type": "stream",
          "text": [
            "Accuracy: 0.8406863212585449\n"
          ],
          "name": "stdout"
        },
        {
          "output_type": "stream",
          "text": [
            "\n"
          ],
          "name": "stderr"
        }
      ]
    },
    {
      "cell_type": "code",
      "metadata": {
        "id": "hzVtmd9i94kc",
        "colab_type": "code",
        "colab": {}
      },
      "source": [
        ""
      ],
      "execution_count": 0,
      "outputs": []
    }
  ]
}